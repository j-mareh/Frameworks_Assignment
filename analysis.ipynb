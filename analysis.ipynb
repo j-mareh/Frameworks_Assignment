{
 "cells": [
  {
   "cell_type": "code",
   "execution_count": null,
   "id": "45882b73",
   "metadata": {},
   "outputs": [],
   "source": [
    "# Step 1: Import Libraries\n",
    "import pandas as pd\n",
    "import matplotlib.pyplot as plt\n",
    "import seaborn as sns\n",
    "from wordcloud import WordCloud\n",
    "\n",
    "# Step 2: Load Data\n",
    "df = pd.read_csv(\"metadata.csv\")   # or metadata_sample.csv if large\n",
    "df.head()\n",
    "\n",
    "# Step 3: Explore Data\n",
    "print(df.shape)\n",
    "print(df.info())\n",
    "print(df.isnull().sum())\n",
    "\n",
    "# Step 4: Data Cleaning\n",
    "df['publish_time'] = pd.to_datetime(df['publish_time'], errors='coerce')\n",
    "df['year'] = df['publish_time'].dt.year\n",
    "df['abstract_word_count'] = df['abstract'].fillna(\"\").apply(lambda x: len(x.split()))\n",
    "\n",
    "# Step 5: Analysis\n",
    "# Papers by year\n",
    "year_counts = df['year'].value_counts().sort_index()\n",
    "plt.figure(figsize=(8,4))\n",
    "plt.bar(year_counts.index, year_counts.values)\n",
    "plt.title(\"Publications by Year\")\n",
    "plt.xlabel(\"Year\")\n",
    "plt.ylabel(\"Count\")\n",
    "plt.show()\n",
    "\n",
    "# Top journals\n",
    "top_journals = df['journal'].value_counts().head(10)\n",
    "sns.barplot(x=top_journals.values, y=top_journals.index)\n",
    "plt.title(\"Top 10 Journals\")\n",
    "plt.show()\n",
    "\n",
    "# WordCloud for titles\n",
    "text = \" \".join(df['title'].dropna().astype(str))\n",
    "wordcloud = WordCloud(width=800, height=400, background_color=\"white\").generate(text)\n",
    "plt.figure(figsize=(10,5))\n",
    "plt.imshow(wordcloud, interpolation=\"bilinear\")\n",
    "plt.axis(\"off\")\n",
    "plt.show()\n"
   ]
  }
 ],
 "metadata": {
  "language_info": {
   "name": "python"
  }
 },
 "nbformat": 4,
 "nbformat_minor": 5
}
